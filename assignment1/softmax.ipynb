{
 "cells": [
  {
   "cell_type": "markdown",
   "metadata": {},
   "source": [
    "# Softmax exercise\n",
    "\n",
    "*Complete and hand in this completed worksheet (including its outputs and any supporting code outside of the worksheet) with your assignment submission. For more details see the [assignments page](http://vision.stanford.edu/teaching/cs231n/assignments.html) on the course website.*\n",
    "\n",
    "This exercise is analogous to the SVM exercise. You will:\n",
    "\n",
    "- implement a fully-vectorized **loss function** for the Softmax classifier\n",
    "- implement the fully-vectorized expression for its **analytic gradient**\n",
    "- **check your implementation** with numerical gradient\n",
    "- use a validation set to **tune the learning rate and regularization** strength\n",
    "- **optimize** the loss function with **SGD**\n",
    "- **visualize** the final learned weights\n"
   ]
  },
  {
   "cell_type": "code",
   "execution_count": 1,
   "metadata": {},
   "outputs": [],
   "source": [
    "import random\n",
    "import numpy as np\n",
    "from cs231n.data_utils import load_CIFAR10\n",
    "import matplotlib.pyplot as plt\n",
    "\n",
    "from __future__ import print_function\n",
    "\n",
    "%matplotlib inline\n",
    "plt.rcParams['figure.figsize'] = (10.0, 8.0) # set default size of plots\n",
    "plt.rcParams['image.interpolation'] = 'nearest'\n",
    "plt.rcParams['image.cmap'] = 'gray'\n",
    "\n",
    "# for auto-reloading extenrnal modules\n",
    "# see http://stackoverflow.com/questions/1907993/autoreload-of-modules-in-ipython\n",
    "%load_ext autoreload\n",
    "%autoreload 2"
   ]
  },
  {
   "cell_type": "code",
   "execution_count": 2,
   "metadata": {},
   "outputs": [
    {
     "name": "stdout",
     "output_type": "stream",
     "text": [
      "Train data shape:  (49000, 3073)\n",
      "Train labels shape:  (49000,)\n",
      "Validation data shape:  (1000, 3073)\n",
      "Validation labels shape:  (1000,)\n",
      "Test data shape:  (1000, 3073)\n",
      "Test labels shape:  (1000,)\n",
      "dev data shape:  (500, 3073)\n",
      "dev labels shape:  (500,)\n"
     ]
    }
   ],
   "source": [
    "def get_CIFAR10_data(num_training=49000, num_validation=1000, num_test=1000, num_dev=500):\n",
    "    \"\"\"\n",
    "    Load the CIFAR-10 dataset from disk and perform preprocessing to prepare\n",
    "    it for the linear classifier. These are the same steps as we used for the\n",
    "    SVM, but condensed to a single function.  \n",
    "    \"\"\"\n",
    "    # Load the raw CIFAR-10 data\n",
    "    cifar10_dir = 'cs231n/datasets/cifar-10-batches-py'\n",
    "    \n",
    "    X_train, y_train, X_test, y_test = load_CIFAR10(cifar10_dir)\n",
    "    \n",
    "    # subsample the data\n",
    "    mask = list(range(num_training, num_training + num_validation))\n",
    "    X_val = X_train[mask]\n",
    "    y_val = y_train[mask]\n",
    "    mask = list(range(num_training))\n",
    "    X_train = X_train[mask]\n",
    "    y_train = y_train[mask]\n",
    "    mask = list(range(num_test))\n",
    "    X_test = X_test[mask]\n",
    "    y_test = y_test[mask]\n",
    "    mask = np.random.choice(num_training, num_dev, replace=False)\n",
    "    X_dev = X_train[mask]\n",
    "    y_dev = y_train[mask]\n",
    "    \n",
    "    # Preprocessing: reshape the image data into rows\n",
    "    X_train = np.reshape(X_train, (X_train.shape[0], -1))\n",
    "    X_val = np.reshape(X_val, (X_val.shape[0], -1))\n",
    "    X_test = np.reshape(X_test, (X_test.shape[0], -1))\n",
    "    X_dev = np.reshape(X_dev, (X_dev.shape[0], -1))\n",
    "    \n",
    "    # Normalize the data: subtract the mean image\n",
    "    mean_image = np.mean(X_train, axis = 0)\n",
    "    X_train -= mean_image\n",
    "    X_val -= mean_image\n",
    "    X_test -= mean_image\n",
    "    X_dev -= mean_image\n",
    "    \n",
    "    # add bias dimension and transform into columns\n",
    "    X_train = np.hstack([X_train, np.ones((X_train.shape[0], 1))])\n",
    "    X_val = np.hstack([X_val, np.ones((X_val.shape[0], 1))])\n",
    "    X_test = np.hstack([X_test, np.ones((X_test.shape[0], 1))])\n",
    "    X_dev = np.hstack([X_dev, np.ones((X_dev.shape[0], 1))])\n",
    "    \n",
    "    return X_train, y_train, X_val, y_val, X_test, y_test, X_dev, y_dev\n",
    "\n",
    "\n",
    "# Cleaning up variables to prevent loading data multiple times (which may cause memory issue)\n",
    "try:\n",
    "   del X_train, y_train\n",
    "   del X_test, y_test\n",
    "   print('Clear previously loaded data.')\n",
    "except:\n",
    "   pass\n",
    "\n",
    "# Invoke the above function to get our data.\n",
    "X_train, y_train, X_val, y_val, X_test, y_test, X_dev, y_dev = get_CIFAR10_data()\n",
    "print('Train data shape: ', X_train.shape)\n",
    "print('Train labels shape: ', y_train.shape)\n",
    "print('Validation data shape: ', X_val.shape)\n",
    "print('Validation labels shape: ', y_val.shape)\n",
    "print('Test data shape: ', X_test.shape)\n",
    "print('Test labels shape: ', y_test.shape)\n",
    "print('dev data shape: ', X_dev.shape)\n",
    "print('dev labels shape: ', y_dev.shape)"
   ]
  },
  {
   "cell_type": "markdown",
   "metadata": {},
   "source": [
    "## Softmax Classifier\n",
    "\n",
    "Your code for this section will all be written inside **cs231n/classifiers/softmax.py**. \n"
   ]
  },
  {
   "cell_type": "code",
   "execution_count": 3,
   "metadata": {},
   "outputs": [
    {
     "name": "stdout",
     "output_type": "stream",
     "text": [
      "loss: 2.366194\n",
      "sanity check: 2.302585\n"
     ]
    }
   ],
   "source": [
    "# First implement the naive softmax loss function with nested loops.\n",
    "# Open the file cs231n/classifiers/softmax.py and implement the\n",
    "# softmax_loss_naive function.\n",
    "\n",
    "from cs231n.classifiers.softmax import softmax_loss_naive\n",
    "import time\n",
    "\n",
    "# Generate a random softmax weight matrix and use it to compute the loss.\n",
    "W = np.random.randn(3073, 10) * 0.0001\n",
    "loss, grad = softmax_loss_naive(W, X_dev, y_dev, 0.0)\n",
    "\n",
    "# As a rough sanity check, our loss should be something close to -log(0.1).\n",
    "print('loss: %f' % loss)\n",
    "print('sanity check: %f' % (-np.log(0.1)))"
   ]
  },
  {
   "cell_type": "markdown",
   "metadata": {},
   "source": [
    "## Inline Question 1:\n",
    "Why do we expect our loss to be close to -log(0.1)? Explain briefly.**\n",
    "\n",
    "**Your answer:** *in the class of 10,0.1 indicates that the property of the right is close to 1.*\n"
   ]
  },
  {
   "cell_type": "code",
   "execution_count": 4,
   "metadata": {},
   "outputs": [
    {
     "name": "stdout",
     "output_type": "stream",
     "text": [
      "numerical: 1.797107 analytic: 1.797107, relative error: 3.244399e-08\n",
      "numerical: 0.942792 analytic: 0.942791, relative error: 1.024266e-07\n",
      "numerical: 3.239691 analytic: 3.239691, relative error: 9.994799e-09\n",
      "numerical: 2.077493 analytic: 2.077493, relative error: 2.268852e-08\n",
      "numerical: -0.100216 analytic: -0.100216, relative error: 5.888636e-07\n",
      "numerical: -0.659745 analytic: -0.659745, relative error: 1.918989e-08\n",
      "numerical: 0.866007 analytic: 0.866007, relative error: 7.779888e-08\n",
      "numerical: 2.486387 analytic: 2.486387, relative error: 3.336057e-08\n",
      "numerical: 1.439523 analytic: 1.439523, relative error: 7.730297e-08\n",
      "numerical: 1.103149 analytic: 1.103149, relative error: 1.697639e-08\n",
      "numerical: 2.092492 analytic: 2.092492, relative error: 1.510449e-08\n",
      "numerical: 2.570098 analytic: 2.570098, relative error: 2.489172e-08\n",
      "numerical: 1.131009 analytic: 1.131009, relative error: 9.953370e-10\n",
      "numerical: -0.638604 analytic: -0.638604, relative error: 5.125196e-08\n",
      "numerical: 0.915028 analytic: 0.915028, relative error: 8.362616e-08\n",
      "numerical: 2.478918 analytic: 2.478918, relative error: 8.042416e-09\n",
      "numerical: 0.330902 analytic: 0.330902, relative error: 1.535909e-07\n",
      "numerical: 1.672215 analytic: 1.672215, relative error: 1.476157e-08\n",
      "numerical: 1.073152 analytic: 1.073152, relative error: 2.139688e-09\n",
      "numerical: 2.703257 analytic: 2.703257, relative error: 4.574770e-08\n"
     ]
    }
   ],
   "source": [
    "# Complete the implementation of softmax_loss_naive and implement a (naive)\n",
    "# version of the gradient that uses nested loops.\n",
    "loss, grad = softmax_loss_naive(W, X_dev, y_dev, 0.0)\n",
    "\n",
    "# As we did for the SVM, use numeric gradient checking as a debugging tool.\n",
    "# The numeric gradient should be close to the analytic gradient.\n",
    "from cs231n.gradient_check import grad_check_sparse\n",
    "f = lambda w: softmax_loss_naive(w, X_dev, y_dev, 0.0)[0]\n",
    "grad_numerical = grad_check_sparse(f, W, grad, 10)\n",
    "\n",
    "# similar to SVM case, do another gradient check with regularization\n",
    "loss, grad = softmax_loss_naive(W, X_dev, y_dev, 5e1)\n",
    "f = lambda w: softmax_loss_naive(w, X_dev, y_dev, 5e1)[0]\n",
    "grad_numerical = grad_check_sparse(f, W, grad, 10)"
   ]
  },
  {
   "cell_type": "code",
   "execution_count": 6,
   "metadata": {},
   "outputs": [
    {
     "name": "stdout",
     "output_type": "stream",
     "text": [
      "naive loss: 2.366194e+00 computed in 0.137777s\n",
      "vectorized loss: 2.366194e+00 computed in 0.004098s\n",
      "Loss difference: 0.000000\n",
      "Gradient difference: 0.000000\n"
     ]
    }
   ],
   "source": [
    "# Now that we have a naive implementation of the softmax loss function and its gradient,\n",
    "# implement a vectorized version in softmax_loss_vectorized.\n",
    "# The two versions should compute the same results, but the vectorized version should be\n",
    "# much faster.\n",
    "tic = time.time()\n",
    "loss_naive, grad_naive = softmax_loss_naive(W, X_dev, y_dev, 0.000005)\n",
    "toc = time.time()\n",
    "print('naive loss: %e computed in %fs' % (loss_naive, toc - tic))\n",
    "\n",
    "from cs231n.classifiers.softmax import softmax_loss_vectorized\n",
    "tic = time.time()\n",
    "loss_vectorized, grad_vectorized = softmax_loss_vectorized(W, X_dev, y_dev, 0.000005)\n",
    "toc = time.time()\n",
    "print('vectorized loss: %e computed in %fs' % (loss_vectorized, toc - tic))\n",
    "\n",
    "# As we did for the SVM, we use the Frobenius norm to compare the two versions\n",
    "# of the gradient.\n",
    "grad_difference = np.linalg.norm(grad_naive - grad_vectorized, ord='fro')\n",
    "print('Loss difference: %f' % np.abs(loss_naive - loss_vectorized))\n",
    "print('Gradient difference: %f' % grad_difference)"
   ]
  },
  {
   "cell_type": "code",
   "execution_count": 9,
   "metadata": {},
   "outputs": [
    {
     "name": "stdout",
     "output_type": "stream",
     "text": [
      "iteration 0 / 1500: loss 390.818077\n",
      "iteration 100 / 1500: loss 236.624869\n",
      "iteration 200 / 1500: loss 143.822091\n",
      "iteration 300 / 1500: loss 87.691690\n",
      "iteration 400 / 1500: loss 53.843435\n",
      "iteration 500 / 1500: loss 33.409351\n",
      "iteration 600 / 1500: loss 20.953858\n",
      "iteration 700 / 1500: loss 13.538571\n",
      "iteration 800 / 1500: loss 9.000851\n",
      "iteration 900 / 1500: loss 6.243367\n",
      "iteration 1000 / 1500: loss 4.505089\n",
      "iteration 1100 / 1500: loss 3.507245\n",
      "iteration 1200 / 1500: loss 2.903918\n",
      "iteration 1300 / 1500: loss 2.535449\n",
      "iteration 1400 / 1500: loss 2.412636\n",
      "iteration 0 / 1500: loss 768.290599\n",
      "iteration 100 / 1500: loss 282.160834\n",
      "iteration 200 / 1500: loss 104.646256\n",
      "iteration 300 / 1500: loss 39.682052\n",
      "iteration 400 / 1500: loss 15.842689\n",
      "iteration 500 / 1500: loss 7.108345\n",
      "iteration 600 / 1500: loss 3.959661\n",
      "iteration 700 / 1500: loss 2.816548\n",
      "iteration 800 / 1500: loss 2.410482\n",
      "iteration 900 / 1500: loss 2.188395\n",
      "iteration 1000 / 1500: loss 2.201693\n",
      "iteration 1100 / 1500: loss 2.119891\n",
      "iteration 1200 / 1500: loss 2.080041\n",
      "iteration 1300 / 1500: loss 2.039550\n",
      "iteration 1400 / 1500: loss 2.066056\n",
      "iteration 0 / 1500: loss 384.563184\n",
      "iteration 100 / 1500: loss 32.293279\n",
      "iteration 200 / 1500: loss 4.485397\n",
      "iteration 300 / 1500: loss 2.228792\n",
      "iteration 400 / 1500: loss 2.006634\n",
      "iteration 500 / 1500: loss 1.996731\n",
      "iteration 600 / 1500: loss 2.006250\n",
      "iteration 700 / 1500: loss 1.985720\n",
      "iteration 800 / 1500: loss 2.023577\n",
      "iteration 900 / 1500: loss 2.029265\n",
      "iteration 1000 / 1500: loss 1.923478\n",
      "iteration 1100 / 1500: loss 1.988627\n",
      "iteration 1200 / 1500: loss 1.969238\n",
      "iteration 1300 / 1500: loss 1.963070\n",
      "iteration 1400 / 1500: loss 1.939917\n",
      "iteration 0 / 1500: loss 774.742152\n",
      "iteration 100 / 1500: loss 6.889226\n",
      "iteration 200 / 1500: loss 2.043690\n",
      "iteration 300 / 1500: loss 2.077075\n",
      "iteration 400 / 1500: loss 2.086521\n",
      "iteration 500 / 1500: loss 2.105853\n",
      "iteration 600 / 1500: loss 2.035771\n",
      "iteration 700 / 1500: loss 2.118772\n",
      "iteration 800 / 1500: loss 2.073453\n",
      "iteration 900 / 1500: loss 2.088374\n",
      "iteration 1000 / 1500: loss 2.086608\n",
      "iteration 1100 / 1500: loss 2.050497\n",
      "iteration 1200 / 1500: loss 2.015824\n",
      "iteration 1300 / 1500: loss 2.050578\n",
      "iteration 1400 / 1500: loss 2.123940\n",
      "lr 1.000000e-07 reg 2.500000e+04 train accuracy: 0.346551 val accuracy: 0.092000\n",
      "lr 1.000000e-07 reg 5.000000e+04 train accuracy: 0.329347 val accuracy: 0.096000\n",
      "lr 5.000000e-07 reg 2.500000e+04 train accuracy: 0.353388 val accuracy: 0.086000\n",
      "lr 5.000000e-07 reg 5.000000e+04 train accuracy: 0.331286 val accuracy: 0.090000\n",
      "best validation accuracy achieved during cross-validation: 0.096000\n"
     ]
    }
   ],
   "source": [
    "# Use the validation set to tune hyperparameters (regularization strength and\n",
    "# learning rate). You should experiment with different ranges for the learning\n",
    "# rates and regularization strengths; if you are careful you should be able to\n",
    "# get a classification accuracy of over 0.35 on the validation set.\n",
    "from cs231n.classifiers import Softmax\n",
    "results = {}\n",
    "best_val = -1\n",
    "best_softmax = None\n",
    "learning_rates = [1e-7, 5e-7]\n",
    "regularization_strengths = [2.5e4, 5e4]\n",
    "\n",
    "################################################################################\n",
    "# TODO:                                                                        #\n",
    "# Use the validation set to set the learning rate and regularization strength. #\n",
    "# This should be identical to the validation that you did for the SVM; save    #\n",
    "# the best trained softmax classifer in best_softmax.                          #\n",
    "################################################################################\n",
    "for lr in learning_rates:\n",
    "    for rs in regularization_strengths:\n",
    "        softmax=Softmax()\n",
    "        softmax.train(X_train,y_train,learning_rate=lr,reg=rs,num_iters=1500,verbose=True)\n",
    "        y_pred_train=softmax.predict(X_train)\n",
    "        acc_train=np.mean(y_pred_train==y_train)\n",
    "        y_pred_val=softmax.predict(X_val)\n",
    "        acc_val=np.mean(y_pred_val==y_test)\n",
    "        results[(lr,rs)]=(acc_train,acc_val)\n",
    "        if acc_val>best_val:\n",
    "            best_val=acc_val\n",
    "            best_softmax=softmax\n",
    "################################################################################\n",
    "#                              END OF YOUR CODE                                #\n",
    "################################################################################\n",
    "    \n",
    "# Print out results.\n",
    "for lr, reg in sorted(results):\n",
    "    train_accuracy, val_accuracy = results[(lr, reg)]\n",
    "    print('lr %e reg %e train accuracy: %f val accuracy: %f' % (\n",
    "                lr, reg, train_accuracy, val_accuracy))\n",
    "    \n",
    "print('best validation accuracy achieved during cross-validation: %f' % best_val)"
   ]
  },
  {
   "cell_type": "code",
   "execution_count": 10,
   "metadata": {},
   "outputs": [
    {
     "name": "stdout",
     "output_type": "stream",
     "text": [
      "softmax on raw pixels final test set accuracy: 0.344000\n"
     ]
    }
   ],
   "source": [
    "# evaluate on test set\n",
    "# Evaluate the best softmax on test set\n",
    "y_test_pred = best_softmax.predict(X_test)\n",
    "test_accuracy = np.mean(y_test == y_test_pred)\n",
    "print('softmax on raw pixels final test set accuracy: %f' % (test_accuracy, ))"
   ]
  },
  {
   "cell_type": "markdown",
   "metadata": {},
   "source": [
    "**Inline Question** - *True or False*\n",
    "\n",
    "It's possible to add a new datapoint to a training set that would leave the SVM loss unchanged, but this is not the case with the Softmax classifier loss.\n",
    "\n",
    "*Your answer*:True\n",
    "\n",
    "*Your explanation*:"
   ]
  },
  {
   "cell_type": "code",
   "execution_count": 11,
   "metadata": {},
   "outputs": [
    {
     "data": {
      "image/png": "[encoded data removed]",
      "text/plain": [
       "<Figure size 432x288 with 10 Axes>"
      ]
     },
     "metadata": {},
     "output_type": "display_data"
    }
   ],
   "source": [
    "# Visualize the learned weights for each class\n",
    "w = best_softmax.W[:-1,:] # strip out the bias\n",
    "w = w.reshape(32, 32, 3, 10)\n",
    "\n",
    "w_min, w_max = np.min(w), np.max(w)\n",
    "\n",
    "classes = ['plane', 'car', 'bird', 'cat', 'deer', 'dog', 'frog', 'horse', 'ship', 'truck']\n",
    "for i in range(10):\n",
    "    plt.subplot(2, 5, i + 1)\n",
    "    \n",
    "    # Rescale the weights to be between 0 and 255\n",
    "    wimg = 255.0 * (w[:, :, :, i].squeeze() - w_min) / (w_max - w_min)\n",
    "    plt.imshow(wimg.astype('uint8'))\n",
    "    plt.axis('off')\n",
    "    plt.title(classes[i])"
   ]
  },
  {
   "cell_type": "code",
   "execution_count": null,
   "metadata": {},
   "outputs": [],
   "source": []
  }
 ],
 "metadata": {
  "kernelspec": {
   "display_name": "Python 2",
   "language": "python",
   "name": "python2"
  },
  "language_info": {
   "codemirror_mode": {
    "name": "ipython",
    "version": 2
   },
   "file_extension": ".py",
   "mimetype": "text/x-python",
   "name": "python",
   "nbconvert_exporter": "python",
   "pygments_lexer": "ipython2",
   "version": "2.7.15"
  }
 },
 "nbformat": 4,
 "nbformat_minor": 1
}
